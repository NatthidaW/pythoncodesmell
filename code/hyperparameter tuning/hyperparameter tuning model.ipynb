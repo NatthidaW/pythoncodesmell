{
 "cells": [
  {
   "cell_type": "code",
   "execution_count": null,
   "metadata": {},
   "outputs": [],
   "source": [
    "import pandas as pd\n",
    "import numpy as np\n",
    "import os\n",
    "\n",
    "typesmell = 'LM'\n",
    "base = [-1]\n",
    "cfs = [10, 14, 15, 17,-1]\n",
    "java = [11,-1]\n",
    "stepwise = [-1]"
   ]
  },
  {
   "cell_type": "markdown",
   "metadata": {},
   "source": [
    "typesmell = 'LC'\n",
    "base = [38]\n",
    "cfs = [16,38]\n",
    "java = [12,13,-1]\n",
    "stepwise = [38]\n",
    "\n",
    "typesmell = 'LPL'\n",
    "base = [-1]\n",
    "cfs = [18,19]\n",
    "java = [17]\n",
    "stepwise = [17,-1]\n",
    "\n",
    "typesmell = 'LSC'\n",
    "base = [-1]\n",
    "cfs = [8,9,19]\n",
    "java = [-1]\n",
    "stepwise = [3,-1]\n",
    "\n",
    "typesmell = 'LBCL'\n",
    "base = [-1]\n",
    "cfs = [19,-1]\n",
    "java = [8]\n",
    "stepwise = [-1]"
   ]
  },
  {
   "cell_type": "code",
   "execution_count": null,
   "metadata": {},
   "outputs": [],
   "source": [
    "import tuning_model_function_update\n",
    "# don't forget to change path\n",
    "path = 'C:\\\\Users\\\\ASUS\\\\Desktop\\\\pythoncodesmell\\\\code\\\\default\\\\'+typesmell+'_data\\\\data\\\\'\n",
    "model_scores,model_scores_base,model_scores_CFS,model_scores_Java_Rule,model_scores_stepwise = tuning_model_function_update.tunning_model(path,base,cfs,java,stepwise,typesmell)"
   ]
  },
  {
   "cell_type": "code",
   "execution_count": null,
   "metadata": {},
   "outputs": [],
   "source": [
    "import write_report_txt_csv\n",
    "\n",
    "os.makedirs(typesmell + '\\\\' + 'tunning report')\n",
    "ans = write_report_txt_csv.write_report_result(model_scores,model_scores_base,model_scores_CFS,model_scores_Java_Rule,model_scores_stepwise,typesmell)"
   ]
  },
  {
   "cell_type": "code",
   "execution_count": null,
   "metadata": {},
   "outputs": [],
   "source": [
    "ans\n",
    "#all features, feature based on Chen et al., cfs, java, stepwise"
   ]
  }
 ],
 "metadata": {
  "kernelspec": {
   "display_name": "Python 3 (ipykernel)",
   "language": "python",
   "name": "python3"
  },
  "language_info": {
   "codemirror_mode": {
    "name": "ipython",
    "version": 3
   },
   "file_extension": ".py",
   "mimetype": "text/x-python",
   "name": "python",
   "nbconvert_exporter": "python",
   "pygments_lexer": "ipython3",
   "version": "3.9.12"
  }
 },
 "nbformat": 4,
 "nbformat_minor": 4
}
