{
 "cells": [
  {
   "cell_type": "code",
   "execution_count": null,
   "id": "0a8d53cb",
   "metadata": {},
   "outputs": [],
   "source": [
    "import pandas as pd\n",
    "import numpy as np\n",
    "import os\n",
    "import model_function\n",
    "import write_report_txt_csv\n",
    "\n",
    "# Before run, remove folder such as LM_data, LC_data, etc and don't forget to change path\n",
    "\n",
    "#import file\n",
    "\n",
    "#long method\n",
    "df = pd.read_csv(\"C:\\\\Users\\\\ASUS\\\\Desktop\\\\pythoncodesmell\\\\dataset label by chen add new metrics by me\\\\LongMethod_YesNo.csv\")\n",
    "\n",
    "#large class\n",
    "#df = pd.read_csv(\"C:\\\\Users\\\\ASUS\\\\Desktop\\\\pythoncodesmell\\\\dataset label by chen add new metrics by me\\\\LargeClass_cohesion_YesNo.csv\")\n",
    "\n",
    "#long parameter list\n",
    "#df = pd.read_csv(\"C:\\\\Users\\\\ASUS\\\\Desktop\\\\pythoncodesmell\\\\dataset label by chen add new metrics by me\\\\LongParameterList_YesNo.csv\")\n",
    "\n",
    "#long scope chaining\n",
    "#df = pd.read_csv(\"C:\\\\Users\\\\ASUS\\\\Desktop\\\\pythoncodesmell\\\\dataset label by chen add new metrics by me\\\\LongScopeChaining_YesNo.csv\")\n",
    "\n",
    "#long base class list\n",
    "#df = pd.read_csv(\"C:\\\\Users\\\\ASUS\\\\Desktop\\\\pythoncodesmell\\\\dataset label by chen add new metrics by me\\\\LongBaseClassList_YesNo.csv\")\n",
    "\n",
    "df = df.drop(columns=['Kind', 'understandname','file','lineno'])\n",
    "df[\"smell\"] = (df[\"smell\"].replace(\"yes\", 1).replace(\"no\", 0))\n",
    "df"
   ]
  },
  {
   "cell_type": "code",
   "execution_count": null,
   "id": "9c32d557",
   "metadata": {},
   "outputs": [],
   "source": [
    "X = df.iloc[:,:-1].to_numpy()\n",
    "y = df.iloc[:,-1].to_numpy()\n",
    "print(df.columns)\n",
    "print(X.shape, y.shape)"
   ]
  },
  {
   "cell_type": "code",
   "execution_count": null,
   "id": "3e1ab0dd",
   "metadata": {},
   "outputs": [],
   "source": [
    "model_function.print_data_model()"
   ]
  },
  {
   "cell_type": "code",
   "execution_count": null,
   "id": "e2577687",
   "metadata": {},
   "outputs": [],
   "source": [
    "\n",
    "typesmell = 'LM'\n",
    "base = [-1]\n",
    "cfs = [10, 14, 15, 17,-1]\n",
    "java = [11,-1]\n",
    "stepwise = [-1]\n",
    "\n",
    "\"\"\"\n",
    "\n",
    "typesmell = 'LC'\n",
    "base = [38]\n",
    "cfs = [16,38]\n",
    "java = [12,13,-1]\n",
    "stepwise = [38]\n",
    "\n",
    "\n",
    "\n",
    "\n",
    "typesmell = 'LPL'\n",
    "base = [-1]\n",
    "cfs = [18,19]\n",
    "java = [17]\n",
    "stepwise = [17,-1]\n",
    "\n",
    "\n",
    "\n",
    "\n",
    "typesmell = 'LSC'\n",
    "base = [-1]\n",
    "cfs = [8,9,19]\n",
    "java = [-1]\n",
    "stepwise = [3,-1]\n",
    "\n",
    "\n",
    "\n",
    "\n",
    "typesmell = 'LBCL'\n",
    "base = [-1]\n",
    "cfs = [19,-1]\n",
    "java = [8]\n",
    "stepwise = [-1]\n",
    "\"\"\"\n"
   ]
  },
  {
   "cell_type": "code",
   "execution_count": null,
   "id": "476ddb9a",
   "metadata": {},
   "outputs": [],
   "source": [
    "model_scores,model_scores_base,model_scores_CFS,model_scores_Java_Rule,model_scores_stepwise = model_function.devide_data(X, y,base,cfs,java,stepwise,typesmell)"
   ]
  },
  {
   "cell_type": "code",
   "execution_count": null,
   "id": "158c62b9",
   "metadata": {},
   "outputs": [],
   "source": [
    "ans = write_report_txt_csv.write_report_result(model_scores,model_scores_base,model_scores_CFS,model_scores_Java_Rule,model_scores_stepwise,typesmell)"
   ]
  },
  {
   "cell_type": "code",
   "execution_count": null,
   "id": "3eec0421",
   "metadata": {},
   "outputs": [],
   "source": [
    "ans\n",
    "# all features, feature based on Chen et al., cfs, java, stepwise"
   ]
  }
 ],
 "metadata": {
  "kernelspec": {
   "display_name": "Python 3 (ipykernel)",
   "language": "python",
   "name": "python3"
  },
  "language_info": {
   "codemirror_mode": {
    "name": "ipython",
    "version": 3
   },
   "file_extension": ".py",
   "mimetype": "text/x-python",
   "name": "python",
   "nbconvert_exporter": "python",
   "pygments_lexer": "ipython3",
   "version": "3.9.12"
  }
 },
 "nbformat": 4,
 "nbformat_minor": 5
}
